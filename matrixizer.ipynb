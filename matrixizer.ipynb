{
 "cells": [
  {
   "cell_type": "code",
   "execution_count": 1,
   "metadata": {
    "collapsed": false
   },
   "outputs": [],
   "source": [
    "import json\n",
    "import urllib2\n",
    "import numpy as np\n",
    "import cStringIO as StringIO\n",
    "import codecs\n",
    "import nltk\n",
    "import re\n",
    "\n",
    "from nltk.stem.snowball import SnowballStemmer\n",
    "from sklearn.feature_extraction.text import TfidfVectorizer\n"
   ]
  },
  {
   "cell_type": "code",
   "execution_count": 2,
   "metadata": {
    "collapsed": true
   },
   "outputs": [],
   "source": [
    "source_url = r'https://data.seattle.gov/api/views/mags-97de/rows.json?accessType=DOWNLOAD'"
   ]
  },
  {
   "cell_type": "code",
   "execution_count": 3,
   "metadata": {
    "collapsed": true
   },
   "outputs": [],
   "source": [
    "response = urllib2.urlopen(source_url)"
   ]
  },
  {
   "cell_type": "code",
   "execution_count": 4,
   "metadata": {
    "collapsed": true
   },
   "outputs": [],
   "source": [
    "source = response.read()"
   ]
  },
  {
   "cell_type": "code",
   "execution_count": 5,
   "metadata": {
    "collapsed": true
   },
   "outputs": [],
   "source": [
    "full_data = json.loads(source)"
   ]
  },
  {
   "cell_type": "code",
   "execution_count": 6,
   "metadata": {
    "collapsed": false
   },
   "outputs": [],
   "source": [
    "meta = full_data['meta']\n",
    "data = full_data['data']"
   ]
  },
  {
   "cell_type": "code",
   "execution_count": 7,
   "metadata": {
    "collapsed": true
   },
   "outputs": [],
   "source": [
    "id_name = 'id'\n",
    "description_name = 'description'\n",
    "category_name = 'category'\n",
    "\n",
    "names = [m['name'].lower() for m in meta['view']['columns']]"
   ]
  },
  {
   "cell_type": "code",
   "execution_count": 8,
   "metadata": {
    "collapsed": false
   },
   "outputs": [],
   "source": [
    "for id_idx, name in enumerate(names):\n",
    "    if name == id_name:\n",
    "        break"
   ]
  },
  {
   "cell_type": "code",
   "execution_count": 9,
   "metadata": {
    "collapsed": false
   },
   "outputs": [],
   "source": [
    "for description_idx, name in enumerate(names):\n",
    "    if name == description_name:\n",
    "        break"
   ]
  },
  {
   "cell_type": "code",
   "execution_count": 10,
   "metadata": {
    "collapsed": true
   },
   "outputs": [],
   "source": [
    "for category_idx, name in enumerate(names):\n",
    "    if name == category_name:\n",
    "        break"
   ]
  },
  {
   "cell_type": "code",
   "execution_count": 11,
   "metadata": {
    "collapsed": false
   },
   "outputs": [],
   "source": [
    "def category2num(category):\n",
    "    if category == 'SINGLE FAMILY / DUPLEX':\n",
    "        return 1\n",
    "    elif category == 'MULTIFAMILY':\n",
    "        return 2\n",
    "    return 0\n",
    "\n",
    "id_list = []\n",
    "description_list = []\n",
    "cat_list = []\n",
    "\n",
    "for d in data:\n",
    "    if d is not None:\n",
    "        id_list.append(d[id_idx])\n",
    "        description_list.append(d[description_idx])\n",
    "        cat_list.append(category2num(d[category_idx]))"
   ]
  },
  {
   "cell_type": "code",
   "execution_count": 13,
   "metadata": {
    "collapsed": false
   },
   "outputs": [
    {
     "name": "stdout",
     "output_type": "stream",
     "text": [
      "SINGLE FAMILY / DUPLEX\n"
     ]
    },
    {
     "data": {
      "text/plain": [
       "1"
      ]
     },
     "execution_count": 13,
     "metadata": {},
     "output_type": "execute_result"
    }
   ],
   "source": [
    "print data[0][category_idx]\n",
    "category2num(data[0][category_idx])"
   ]
  },
  {
   "cell_type": "code",
   "execution_count": 41,
   "metadata": {
    "collapsed": false
   },
   "outputs": [],
   "source": [
    "pat = re.compile('\\D*\\d')\n",
    "def match_number(x):\n",
    "    if re.match(pat, x) is None:\n",
    "        return True"
   ]
  },
  {
   "cell_type": "code",
   "execution_count": 42,
   "metadata": {
    "collapsed": false
   },
   "outputs": [
    {
     "data": {
      "text/plain": [
       "['jahjs', 'uyuy']"
      ]
     },
     "execution_count": 42,
     "metadata": {},
     "output_type": "execute_result"
    }
   ],
   "source": [
    "sample = 'jahjs a626532ggf y3 uyuy 23yy'\n",
    "sample_list = sample.split(' ')\n",
    "filter(match_number, sample_list)"
   ]
  },
  {
   "cell_type": "code",
   "execution_count": 43,
   "metadata": {
    "collapsed": false
   },
   "outputs": [],
   "source": [
    "text_list = []\n",
    "indices = []\n",
    "stemmer = SnowballStemmer(\"english\", ignore_stopwords=True)\n",
    "\n",
    "for i, d in enumerate(description_list):\n",
    "    try:\n",
    "        words = d.lower().split(' ')\n",
    "        update = filter(match_number, words)\n",
    "        text = ' '.join([stemmer.stem(word) for word in update])\n",
    "        text = ' '.join(filter(match_number, text.split(' ')))\n",
    "        text_list.append(text)\n",
    "        indices.append(i)\n",
    "    except:\n",
    "        pass\n",
    "identity_list = list(np.array(id_list)[indices])\n",
    "category_list = list(np.array(cat_list, dtype=np.int32)[indices])"
   ]
  },
  {
   "cell_type": "code",
   "execution_count": 17,
   "metadata": {
    "collapsed": false
   },
   "outputs": [
    {
     "data": {
      "text/plain": [
       "[u'5A415A1E-3309-4554-9659-E2E1318103E3',\n",
       " u'606F6CD2-03C8-48BD-8C8F-244FA3BFBC32',\n",
       " u'2C9C579D-AA73-4B22-B16C-A298352EB8E0',\n",
       " u'9D6C2EAD-B548-47EA-B531-B1669E61EDD6',\n",
       " u'3CB74908-0CC0-465C-948E-C24BCEBB8627',\n",
       " u'59ACD8FD-BDA1-426C-B7DD-033F689BC0CE',\n",
       " u'E6A03C6C-DCCF-4EC2-AA95-4E8A3A2FF859',\n",
       " u'D5DC1FAB-037E-4C22-84C4-B0033BA5C8B7',\n",
       " u'CF7E2C09-B1F8-4D0D-BBF1-53A3DB939C2C',\n",
       " u'EB963525-A8B3-4F1A-86BF-0CD6F942D4BF']"
      ]
     },
     "execution_count": 17,
     "metadata": {},
     "output_type": "execute_result"
    }
   ],
   "source": [
    "identity_list[0:10]"
   ]
  },
  {
   "cell_type": "code",
   "execution_count": 44,
   "metadata": {
    "collapsed": true
   },
   "outputs": [],
   "source": [
    "vectorizer = TfidfVectorizer(min_df=1)\n",
    "X = vectorizer.fit_transform(text_list)\n",
    "\n",
    "term_list = vectorizer.get_feature_names()"
   ]
  },
  {
   "cell_type": "code",
   "execution_count": 45,
   "metadata": {
    "collapsed": false
   },
   "outputs": [
    {
     "data": {
      "text/plain": [
       "[u'creation',\n",
       " u'of',\n",
       " u'shower',\n",
       " u'room',\n",
       " u'insid',\n",
       " u'of',\n",
       " u'exist',\n",
       " u'manufacturing/offic',\n",
       " u'build',\n",
       " u'(suit',\n",
       " u'near',\n",
       " u'washbay',\n",
       " u'-',\n",
       " u'center',\n",
       " u'of',\n",
       " u'suit',\n",
       " u'subject',\n",
       " u'to',\n",
       " u'field',\n",
       " u'inpsect']"
      ]
     },
     "execution_count": 45,
     "metadata": {},
     "output_type": "execute_result"
    }
   ],
   "source": [
    "filter(match_number, text_list[4].split(' '))"
   ]
  },
  {
   "cell_type": "code",
   "execution_count": 46,
   "metadata": {
    "collapsed": true
   },
   "outputs": [],
   "source": [
    "buf = StringIO.StringIO()"
   ]
  },
  {
   "cell_type": "code",
   "execution_count": 47,
   "metadata": {
    "collapsed": false
   },
   "outputs": [],
   "source": [
    "for row, x in enumerate(X):\n",
    "    dense_x = x.toarray().flatten()\n",
    "    idx = np.where(dense_x != 0)[0]\n",
    "    val = dense_x[idx]\n",
    "    print >> buf, '%d' % category_list[row],\n",
    "    for i, v in zip(*[idx, val]):\n",
    "        print >> buf, ' %d:%f' % (i, v),\n",
    "    print >> buf"
   ]
  },
  {
   "cell_type": "code",
   "execution_count": 48,
   "metadata": {
    "collapsed": false
   },
   "outputs": [],
   "source": [
    "contents = buf.getvalue()\n",
    "f = open('seattle_tfidf.txt', 'w')\n",
    "f.write(contents)\n",
    "f.close()"
   ]
  },
  {
   "cell_type": "code",
   "execution_count": 49,
   "metadata": {
    "collapsed": false
   },
   "outputs": [],
   "source": [
    "term_list = vectorizer.get_feature_names()\n",
    "f = codecs.open('seattle_terms.txt', 'w', 'utf-8')\n",
    "for term in term_list:\n",
    "    print >> f, '%s' % term\n",
    "f.close()"
   ]
  },
  {
   "cell_type": "code",
   "execution_count": 50,
   "metadata": {
    "collapsed": false
   },
   "outputs": [],
   "source": [
    "f = codecs.open('seattle_identities.txt', 'w', 'utf-8')\n",
    "for identity in identity_list:\n",
    "    print >> f, '%s' % identity\n",
    "f.close()"
   ]
  },
  {
   "cell_type": "code",
   "execution_count": null,
   "metadata": {
    "collapsed": true
   },
   "outputs": [],
   "source": []
  },
  {
   "cell_type": "code",
   "execution_count": null,
   "metadata": {
    "collapsed": true
   },
   "outputs": [],
   "source": [
    "import re"
   ]
  },
  {
   "cell_type": "code",
   "execution_count": null,
   "metadata": {
    "collapsed": true
   },
   "outputs": [],
   "source": [
    "pat = re.compile('\\d+')"
   ]
  },
  {
   "cell_type": "code",
   "execution_count": null,
   "metadata": {
    "collapsed": false
   },
   "outputs": [],
   "source": [
    "def filter_out(pattern, words):\n",
    "    update = []\n",
    "    for x in words:\n",
    "        if re.match(pattern, x) is None:\n",
    "            update.append(x)\n",
    "    return update"
   ]
  },
  {
   "cell_type": "code",
   "execution_count": null,
   "metadata": {
    "collapsed": false
   },
   "outputs": [],
   "source": [
    "filter_out(pat, ['hgahsga', '0hghgh', 'sds'])"
   ]
  },
  {
   "cell_type": "code",
   "execution_count": null,
   "metadata": {
    "collapsed": false
   },
   "outputs": [],
   "source": [
    "text = 'asa asas 1 jhjha 8278723'"
   ]
  },
  {
   "cell_type": "code",
   "execution_count": null,
   "metadata": {
    "collapsed": false
   },
   "outputs": [],
   "source": [
    "text.split(' ')"
   ]
  },
  {
   "cell_type": "code",
   "execution_count": null,
   "metadata": {
    "collapsed": false
   },
   "outputs": [],
   "source": [
    "print text\n",
    "words = nltk.word_tokenize(text)\n",
    "print words"
   ]
  },
  {
   "cell_type": "code",
   "execution_count": null,
   "metadata": {
    "collapsed": false
   },
   "outputs": [],
   "source": [
    "filter(f, words)\n"
   ]
  },
  {
   "cell_type": "code",
   "execution_count": null,
   "metadata": {
    "collapsed": true
   },
   "outputs": [],
   "source": [
    "def g(x):\n",
    "    if re.match(pat, x) is None:\n",
    "        return True"
   ]
  },
  {
   "cell_type": "code",
   "execution_count": null,
   "metadata": {
    "collapsed": false
   },
   "outputs": [],
   "source": [
    "print filter(g, words)"
   ]
  },
  {
   "cell_type": "code",
   "execution_count": null,
   "metadata": {
    "collapsed": false
   },
   "outputs": [],
   "source": [
    "type(re.match(pat, '4545'))"
   ]
  },
  {
   "cell_type": "code",
   "execution_count": null,
   "metadata": {
    "collapsed": false
   },
   "outputs": [],
   "source": [
    "re.match(pat, words[0])"
   ]
  },
  {
   "cell_type": "code",
   "execution_count": null,
   "metadata": {
    "collapsed": false
   },
   "outputs": [],
   "source": [
    "words"
   ]
  },
  {
   "cell_type": "code",
   "execution_count": null,
   "metadata": {
    "collapsed": false
   },
   "outputs": [],
   "source": [
    "'asasas as;lklaks asas 1212'.lower()"
   ]
  },
  {
   "cell_type": "code",
   "execution_count": null,
   "metadata": {
    "collapsed": true
   },
   "outputs": [],
   "source": []
  }
 ],
 "metadata": {
  "kernelspec": {
   "display_name": "Python 2",
   "language": "python",
   "name": "python2"
  },
  "language_info": {
   "codemirror_mode": {
    "name": "ipython",
    "version": 2
   },
   "file_extension": ".py",
   "mimetype": "text/x-python",
   "name": "python",
   "nbconvert_exporter": "python",
   "pygments_lexer": "ipython2",
   "version": "2.7.11"
  }
 },
 "nbformat": 4,
 "nbformat_minor": 0
}
